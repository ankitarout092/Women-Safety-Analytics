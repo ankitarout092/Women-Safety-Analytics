{
 "cells": [
  {
   "cell_type": "markdown",
   "metadata": {},
   "source": [
    "# Dataset: https://www.kaggle.com/datasets/jangedoo/utkface-new"
   ]
  },
  {
   "cell_type": "code",
   "execution_count": 2,
   "metadata": {
    "id": "k8TDso5H73TT"
   },
   "outputs": [],
   "source": [
    "# unzipping the dataset\n",
    "import zipfile\n",
    "zip_ref = zipfile.ZipFile('/content/data.zip', 'r')\n",
    "zip_ref.extractall('/content')\n",
    "zip_ref.close()"
   ]
  },
  {
   "cell_type": "code",
   "execution_count": 1,
   "metadata": {
    "colab": {
     "base_uri": "https://localhost:8080/",
     "height": 0
    },
    "id": "h8Aol9NZQJw8",
    "outputId": "11f9b917-1295-4a00-ac61-80ac65f6aba9"
   },
   "outputs": [
    {
     "name": "stdout",
     "output_type": "stream",
     "text": [
      "Requirement already satisfied: tensorflow==2.10.0 in /usr/local/lib/python3.10/dist-packages (2.10.0)\n",
      "Requirement already satisfied: absl-py>=1.0.0 in /usr/local/lib/python3.10/dist-packages (from tensorflow==2.10.0) (1.4.0)\n",
      "Requirement already satisfied: astunparse>=1.6.0 in /usr/local/lib/python3.10/dist-packages (from tensorflow==2.10.0) (1.6.3)\n",
      "Requirement already satisfied: flatbuffers>=2.0 in /usr/local/lib/python3.10/dist-packages (from tensorflow==2.10.0) (24.3.25)\n",
      "Requirement already satisfied: gast<=0.4.0,>=0.2.1 in /usr/local/lib/python3.10/dist-packages (from tensorflow==2.10.0) (0.4.0)\n",
      "Requirement already satisfied: google-pasta>=0.1.1 in /usr/local/lib/python3.10/dist-packages (from tensorflow==2.10.0) (0.2.0)\n",
      "Requirement already satisfied: grpcio<2.0,>=1.24.3 in /usr/local/lib/python3.10/dist-packages (from tensorflow==2.10.0) (1.64.1)\n",
      "Requirement already satisfied: h5py>=2.9.0 in /usr/local/lib/python3.10/dist-packages (from tensorflow==2.10.0) (3.11.0)\n",
      "Requirement already satisfied: keras<2.11,>=2.10.0 in /usr/local/lib/python3.10/dist-packages (from tensorflow==2.10.0) (2.10.0)\n",
      "Requirement already satisfied: keras-preprocessing>=1.1.1 in /usr/local/lib/python3.10/dist-packages (from tensorflow==2.10.0) (1.1.2)\n",
      "Requirement already satisfied: libclang>=13.0.0 in /usr/local/lib/python3.10/dist-packages (from tensorflow==2.10.0) (18.1.1)\n",
      "Requirement already satisfied: numpy>=1.20 in /usr/local/lib/python3.10/dist-packages (from tensorflow==2.10.0) (1.26.4)\n",
      "Requirement already satisfied: opt-einsum>=2.3.2 in /usr/local/lib/python3.10/dist-packages (from tensorflow==2.10.0) (3.3.0)\n",
      "Requirement already satisfied: packaging in /usr/local/lib/python3.10/dist-packages (from tensorflow==2.10.0) (24.1)\n",
      "Requirement already satisfied: protobuf<3.20,>=3.9.2 in /usr/local/lib/python3.10/dist-packages (from tensorflow==2.10.0) (3.19.6)\n",
      "Requirement already satisfied: setuptools in /usr/local/lib/python3.10/dist-packages (from tensorflow==2.10.0) (71.0.4)\n",
      "Requirement already satisfied: six>=1.12.0 in /usr/local/lib/python3.10/dist-packages (from tensorflow==2.10.0) (1.16.0)\n",
      "Requirement already satisfied: tensorboard<2.11,>=2.10 in /usr/local/lib/python3.10/dist-packages (from tensorflow==2.10.0) (2.10.1)\n",
      "Requirement already satisfied: tensorflow-io-gcs-filesystem>=0.23.1 in /usr/local/lib/python3.10/dist-packages (from tensorflow==2.10.0) (0.37.1)\n",
      "Requirement already satisfied: tensorflow-estimator<2.11,>=2.10.0 in /usr/local/lib/python3.10/dist-packages (from tensorflow==2.10.0) (2.10.0)\n",
      "Requirement already satisfied: termcolor>=1.1.0 in /usr/local/lib/python3.10/dist-packages (from tensorflow==2.10.0) (2.4.0)\n",
      "Requirement already satisfied: typing-extensions>=3.6.6 in /usr/local/lib/python3.10/dist-packages (from tensorflow==2.10.0) (4.12.2)\n",
      "Requirement already satisfied: wrapt>=1.11.0 in /usr/local/lib/python3.10/dist-packages (from tensorflow==2.10.0) (1.16.0)\n",
      "Requirement already satisfied: wheel<1.0,>=0.23.0 in /usr/local/lib/python3.10/dist-packages (from astunparse>=1.6.0->tensorflow==2.10.0) (0.44.0)\n",
      "Requirement already satisfied: google-auth<3,>=1.6.3 in /usr/local/lib/python3.10/dist-packages (from tensorboard<2.11,>=2.10->tensorflow==2.10.0) (2.27.0)\n",
      "Requirement already satisfied: google-auth-oauthlib<0.5,>=0.4.1 in /usr/local/lib/python3.10/dist-packages (from tensorboard<2.11,>=2.10->tensorflow==2.10.0) (0.4.6)\n",
      "Requirement already satisfied: markdown>=2.6.8 in /usr/local/lib/python3.10/dist-packages (from tensorboard<2.11,>=2.10->tensorflow==2.10.0) (3.7)\n",
      "Requirement already satisfied: requests<3,>=2.21.0 in /usr/local/lib/python3.10/dist-packages (from tensorboard<2.11,>=2.10->tensorflow==2.10.0) (2.32.3)\n",
      "Requirement already satisfied: tensorboard-data-server<0.7.0,>=0.6.0 in /usr/local/lib/python3.10/dist-packages (from tensorboard<2.11,>=2.10->tensorflow==2.10.0) (0.6.1)\n",
      "Requirement already satisfied: tensorboard-plugin-wit>=1.6.0 in /usr/local/lib/python3.10/dist-packages (from tensorboard<2.11,>=2.10->tensorflow==2.10.0) (1.8.1)\n",
      "Requirement already satisfied: werkzeug>=1.0.1 in /usr/local/lib/python3.10/dist-packages (from tensorboard<2.11,>=2.10->tensorflow==2.10.0) (3.0.4)\n",
      "Requirement already satisfied: cachetools<6.0,>=2.0.0 in /usr/local/lib/python3.10/dist-packages (from google-auth<3,>=1.6.3->tensorboard<2.11,>=2.10->tensorflow==2.10.0) (5.5.0)\n",
      "Requirement already satisfied: pyasn1-modules>=0.2.1 in /usr/local/lib/python3.10/dist-packages (from google-auth<3,>=1.6.3->tensorboard<2.11,>=2.10->tensorflow==2.10.0) (0.4.0)\n",
      "Requirement already satisfied: rsa<5,>=3.1.4 in /usr/local/lib/python3.10/dist-packages (from google-auth<3,>=1.6.3->tensorboard<2.11,>=2.10->tensorflow==2.10.0) (4.9)\n",
      "Requirement already satisfied: requests-oauthlib>=0.7.0 in /usr/local/lib/python3.10/dist-packages (from google-auth-oauthlib<0.5,>=0.4.1->tensorboard<2.11,>=2.10->tensorflow==2.10.0) (1.3.1)\n",
      "Requirement already satisfied: charset-normalizer<4,>=2 in /usr/local/lib/python3.10/dist-packages (from requests<3,>=2.21.0->tensorboard<2.11,>=2.10->tensorflow==2.10.0) (3.3.2)\n",
      "Requirement already satisfied: idna<4,>=2.5 in /usr/local/lib/python3.10/dist-packages (from requests<3,>=2.21.0->tensorboard<2.11,>=2.10->tensorflow==2.10.0) (3.8)\n",
      "Requirement already satisfied: urllib3<3,>=1.21.1 in /usr/local/lib/python3.10/dist-packages (from requests<3,>=2.21.0->tensorboard<2.11,>=2.10->tensorflow==2.10.0) (2.0.7)\n",
      "Requirement already satisfied: certifi>=2017.4.17 in /usr/local/lib/python3.10/dist-packages (from requests<3,>=2.21.0->tensorboard<2.11,>=2.10->tensorflow==2.10.0) (2024.7.4)\n",
      "Requirement already satisfied: MarkupSafe>=2.1.1 in /usr/local/lib/python3.10/dist-packages (from werkzeug>=1.0.1->tensorboard<2.11,>=2.10->tensorflow==2.10.0) (2.1.5)\n",
      "Requirement already satisfied: pyasn1<0.7.0,>=0.4.6 in /usr/local/lib/python3.10/dist-packages (from pyasn1-modules>=0.2.1->google-auth<3,>=1.6.3->tensorboard<2.11,>=2.10->tensorflow==2.10.0) (0.6.0)\n",
      "Requirement already satisfied: oauthlib>=3.0.0 in /usr/local/lib/python3.10/dist-packages (from requests-oauthlib>=0.7.0->google-auth-oauthlib<0.5,>=0.4.1->tensorboard<2.11,>=2.10->tensorflow==2.10.0) (3.2.2)\n",
      "Requirement already satisfied: keras==2.10.0 in /usr/local/lib/python3.10/dist-packages (2.10.0)\n"
     ]
    }
   ],
   "source": [
    "!pip install tensorflow==2.10.0\n",
    "!pip install keras==2.10.0"
   ]
  },
  {
   "cell_type": "code",
   "execution_count": 2,
   "metadata": {
    "colab": {
     "base_uri": "https://localhost:8080/",
     "height": 0
    },
    "id": "bD3Q-BH5PFdx",
    "outputId": "57a88256-1bab-44d5-a38c-04713cdd1cef"
   },
   "outputs": [
    {
     "name": "stdout",
     "output_type": "stream",
     "text": [
      "Keras version: 2.10.0\n",
      "TensorFlow version: 2.10.0\n"
     ]
    }
   ],
   "source": [
    "import keras\n",
    "import tensorflow as tf\n",
    "\n",
    "print(\"Keras version:\", keras.__version__)\n",
    "print(\"TensorFlow version:\", tf.__version__)\n"
   ]
  },
  {
   "cell_type": "code",
   "execution_count": 2,
   "metadata": {
    "colab": {
     "base_uri": "https://localhost:8080/",
     "height": 0
    },
    "id": "wAcQSElIQ8RE",
    "outputId": "bde20668-d9fa-4014-8305-ca9526a47fc7"
   },
   "outputs": [
    {
     "name": "stdout",
     "output_type": "stream",
     "text": [
      "Epoch 1/50\n",
      "593/593 [==============================] - 477s 802ms/step - loss: 378.2160 - dense_2_loss: 377.5555 - dense_5_loss: 0.6602 - dense_2_mae: 14.7633 - dense_2_accuracy: 0.0483 - dense_5_mae: 0.5000 - dense_5_accuracy: 0.5878 - val_loss: 273.6297 - val_dense_2_loss: 273.0755 - val_dense_5_loss: 0.5543 - val_dense_2_mae: 12.0583 - val_dense_2_accuracy: 0.0426 - val_dense_5_mae: 0.5000 - val_dense_5_accuracy: 0.7189\n",
      "Epoch 2/50\n",
      "593/593 [==============================] - 452s 763ms/step - loss: 237.1796 - dense_2_loss: 236.6334 - dense_5_loss: 0.5461 - dense_2_mae: 11.5733 - dense_2_accuracy: 0.0465 - dense_5_mae: 0.5000 - dense_5_accuracy: 0.7361 - val_loss: 187.4272 - val_dense_2_loss: 186.9309 - val_dense_5_loss: 0.4962 - val_dense_2_mae: 10.1510 - val_dense_2_accuracy: 0.0382 - val_dense_5_mae: 0.5000 - val_dense_5_accuracy: 0.7482\n",
      "Epoch 3/50\n",
      "593/593 [==============================] - 459s 775ms/step - loss: 194.8064 - dense_2_loss: 194.3266 - dense_5_loss: 0.4799 - dense_2_mae: 10.2628 - dense_2_accuracy: 0.0386 - dense_5_mae: 0.5000 - dense_5_accuracy: 0.7742 - val_loss: 198.2930 - val_dense_2_loss: 197.8895 - val_dense_5_loss: 0.4036 - val_dense_2_mae: 11.1789 - val_dense_2_accuracy: 0.0426 - val_dense_5_mae: 0.5000 - val_dense_5_accuracy: 0.7990\n",
      "Epoch 4/50\n",
      "593/593 [==============================] - 460s 776ms/step - loss: 165.4577 - dense_2_loss: 165.0356 - dense_5_loss: 0.4221 - dense_2_mae: 9.3211 - dense_2_accuracy: 0.0440 - dense_5_mae: 0.5000 - dense_5_accuracy: 0.8060 - val_loss: 141.5432 - val_dense_2_loss: 141.1977 - val_dense_5_loss: 0.3455 - val_dense_2_mae: 8.3854 - val_dense_2_accuracy: 0.0418 - val_dense_5_mae: 0.5000 - val_dense_5_accuracy: 0.8372\n",
      "Epoch 5/50\n",
      "593/593 [==============================] - 460s 775ms/step - loss: 144.5082 - dense_2_loss: 144.1096 - dense_5_loss: 0.3987 - dense_2_mae: 8.7182 - dense_2_accuracy: 0.0439 - dense_5_mae: 0.5000 - dense_5_accuracy: 0.8184 - val_loss: 132.3925 - val_dense_2_loss: 132.0395 - val_dense_5_loss: 0.3530 - val_dense_2_mae: 8.1387 - val_dense_2_accuracy: 0.0426 - val_dense_5_mae: 0.5000 - val_dense_5_accuracy: 0.8380\n",
      "Epoch 6/50\n",
      "593/593 [==============================] - 458s 772ms/step - loss: 136.8705 - dense_2_loss: 136.4909 - dense_5_loss: 0.3796 - dense_2_mae: 8.4462 - dense_2_accuracy: 0.0444 - dense_5_mae: 0.5000 - dense_5_accuracy: 0.8306 - val_loss: 122.1827 - val_dense_2_loss: 121.8295 - val_dense_5_loss: 0.3533 - val_dense_2_mae: 7.9036 - val_dense_2_accuracy: 0.0384 - val_dense_5_mae: 0.5000 - val_dense_5_accuracy: 0.8334\n",
      "Epoch 7/50\n",
      "593/593 [==============================] - 467s 788ms/step - loss: 125.3280 - dense_2_loss: 124.9602 - dense_5_loss: 0.3679 - dense_2_mae: 8.0787 - dense_2_accuracy: 0.0444 - dense_5_mae: 0.5000 - dense_5_accuracy: 0.8342 - val_loss: 117.2530 - val_dense_2_loss: 116.9274 - val_dense_5_loss: 0.3256 - val_dense_2_mae: 7.9380 - val_dense_2_accuracy: 0.0426 - val_dense_5_mae: 0.5000 - val_dense_5_accuracy: 0.8507\n",
      "Epoch 8/50\n",
      "593/593 [==============================] - 467s 788ms/step - loss: 116.0103 - dense_2_loss: 115.6562 - dense_5_loss: 0.3541 - dense_2_mae: 7.7495 - dense_2_accuracy: 0.0468 - dense_5_mae: 0.5000 - dense_5_accuracy: 0.8399 - val_loss: 125.1694 - val_dense_2_loss: 124.8481 - val_dense_5_loss: 0.3214 - val_dense_2_mae: 7.7324 - val_dense_2_accuracy: 0.0415 - val_dense_5_mae: 0.5000 - val_dense_5_accuracy: 0.8547\n",
      "Epoch 9/50\n",
      "593/593 [==============================] - 465s 783ms/step - loss: 109.3481 - dense_2_loss: 109.0014 - dense_5_loss: 0.3466 - dense_2_mae: 7.5292 - dense_2_accuracy: 0.0467 - dense_5_mae: 0.5000 - dense_5_accuracy: 0.8437 - val_loss: 110.7819 - val_dense_2_loss: 110.3453 - val_dense_5_loss: 0.4366 - val_dense_2_mae: 7.6512 - val_dense_2_accuracy: 0.0426 - val_dense_5_mae: 0.5000 - val_dense_5_accuracy: 0.8100\n",
      "Epoch 10/50\n",
      "593/593 [==============================] - 468s 790ms/step - loss: 103.6630 - dense_2_loss: 103.3183 - dense_5_loss: 0.3447 - dense_2_mae: 7.3226 - dense_2_accuracy: 0.0467 - dense_5_mae: 0.5000 - dense_5_accuracy: 0.8452 - val_loss: 112.6237 - val_dense_2_loss: 112.3085 - val_dense_5_loss: 0.3153 - val_dense_2_mae: 7.8389 - val_dense_2_accuracy: 0.0426 - val_dense_5_mae: 0.5000 - val_dense_5_accuracy: 0.8593\n",
      "Epoch 11/50\n",
      "593/593 [==============================] - 463s 781ms/step - loss: 100.6700 - dense_2_loss: 100.3329 - dense_5_loss: 0.3372 - dense_2_mae: 7.2429 - dense_2_accuracy: 0.0468 - dense_5_mae: 0.5000 - dense_5_accuracy: 0.8494 - val_loss: 107.0423 - val_dense_2_loss: 106.7275 - val_dense_5_loss: 0.3148 - val_dense_2_mae: 7.4315 - val_dense_2_accuracy: 0.0422 - val_dense_5_mae: 0.5000 - val_dense_5_accuracy: 0.8593\n",
      "Epoch 12/50\n",
      "593/593 [==============================] - 470s 792ms/step - loss: 94.9311 - dense_2_loss: 94.6004 - dense_5_loss: 0.3307 - dense_2_mae: 7.0395 - dense_2_accuracy: 0.0457 - dense_5_mae: 0.5000 - dense_5_accuracy: 0.8545 - val_loss: 100.4030 - val_dense_2_loss: 100.0675 - val_dense_5_loss: 0.3355 - val_dense_2_mae: 7.0928 - val_dense_2_accuracy: 0.0302 - val_dense_5_mae: 0.5000 - val_dense_5_accuracy: 0.8484\n",
      "Epoch 13/50\n",
      "593/593 [==============================] - 470s 793ms/step - loss: 92.5617 - dense_2_loss: 92.2348 - dense_5_loss: 0.3269 - dense_2_mae: 6.9368 - dense_2_accuracy: 0.0470 - dense_5_mae: 0.5000 - dense_5_accuracy: 0.8589 - val_loss: 99.5123 - val_dense_2_loss: 99.1985 - val_dense_5_loss: 0.3138 - val_dense_2_mae: 7.0500 - val_dense_2_accuracy: 0.0422 - val_dense_5_mae: 0.5000 - val_dense_5_accuracy: 0.8633\n",
      "Epoch 14/50\n",
      "593/593 [==============================] - 468s 789ms/step - loss: 87.8739 - dense_2_loss: 87.5536 - dense_5_loss: 0.3202 - dense_2_mae: 6.7885 - dense_2_accuracy: 0.0463 - dense_5_mae: 0.5000 - dense_5_accuracy: 0.8596 - val_loss: 107.4542 - val_dense_2_loss: 107.1456 - val_dense_5_loss: 0.3087 - val_dense_2_mae: 7.4619 - val_dense_2_accuracy: 0.0396 - val_dense_5_mae: 0.5000 - val_dense_5_accuracy: 0.8659\n",
      "Epoch 15/50\n",
      "593/593 [==============================] - 459s 774ms/step - loss: 86.2079 - dense_2_loss: 85.8939 - dense_5_loss: 0.3140 - dense_2_mae: 6.6934 - dense_2_accuracy: 0.0456 - dense_5_mae: 0.5000 - dense_5_accuracy: 0.8643 - val_loss: 109.0511 - val_dense_2_loss: 108.7457 - val_dense_5_loss: 0.3055 - val_dense_2_mae: 7.1966 - val_dense_2_accuracy: 0.0401 - val_dense_5_mae: 0.5000 - val_dense_5_accuracy: 0.8629\n",
      "Epoch 16/50\n",
      "593/593 [==============================] - 467s 788ms/step - loss: 82.2486 - dense_2_loss: 81.9427 - dense_5_loss: 0.3060 - dense_2_mae: 6.5576 - dense_2_accuracy: 0.0434 - dense_5_mae: 0.5000 - dense_5_accuracy: 0.8633 - val_loss: 91.2131 - val_dense_2_loss: 90.8877 - val_dense_5_loss: 0.3255 - val_dense_2_mae: 6.7957 - val_dense_2_accuracy: 0.0331 - val_dense_5_mae: 0.5000 - val_dense_5_accuracy: 0.8631\n",
      "Epoch 17/50\n",
      "593/593 [==============================] - 467s 786ms/step - loss: 79.3997 - dense_2_loss: 79.0943 - dense_5_loss: 0.3054 - dense_2_mae: 6.4445 - dense_2_accuracy: 0.0449 - dense_5_mae: 0.5000 - dense_5_accuracy: 0.8679 - val_loss: 91.8916 - val_dense_2_loss: 91.5887 - val_dense_5_loss: 0.3029 - val_dense_2_mae: 6.9089 - val_dense_2_accuracy: 0.0367 - val_dense_5_mae: 0.5000 - val_dense_5_accuracy: 0.8667\n",
      "Epoch 18/50\n",
      "593/593 [==============================] - 461s 776ms/step - loss: 77.4278 - dense_2_loss: 77.1297 - dense_5_loss: 0.2981 - dense_2_mae: 6.3747 - dense_2_accuracy: 0.0420 - dense_5_mae: 0.5000 - dense_5_accuracy: 0.8681 - val_loss: 92.2240 - val_dense_2_loss: 91.9160 - val_dense_5_loss: 0.3079 - val_dense_2_mae: 6.8394 - val_dense_2_accuracy: 0.0399 - val_dense_5_mae: 0.5000 - val_dense_5_accuracy: 0.8667\n",
      "Epoch 19/50\n",
      "593/593 [==============================] - 460s 776ms/step - loss: 74.6406 - dense_2_loss: 74.3450 - dense_5_loss: 0.2956 - dense_2_mae: 6.2744 - dense_2_accuracy: 0.0428 - dense_5_mae: 0.5000 - dense_5_accuracy: 0.8705 - val_loss: 101.6918 - val_dense_2_loss: 101.3931 - val_dense_5_loss: 0.2987 - val_dense_2_mae: 6.9542 - val_dense_2_accuracy: 0.0363 - val_dense_5_mae: 0.5000 - val_dense_5_accuracy: 0.8705\n",
      "Epoch 20/50\n",
      "593/593 [==============================] - 460s 776ms/step - loss: 71.8742 - dense_2_loss: 71.5837 - dense_5_loss: 0.2906 - dense_2_mae: 6.1536 - dense_2_accuracy: 0.0442 - dense_5_mae: 0.5000 - dense_5_accuracy: 0.8734 - val_loss: 97.3692 - val_dense_2_loss: 97.0638 - val_dense_5_loss: 0.3054 - val_dense_2_mae: 6.9744 - val_dense_2_accuracy: 0.0342 - val_dense_5_mae: 0.5000 - val_dense_5_accuracy: 0.8640\n",
      "Epoch 21/50\n",
      "593/593 [==============================] - 457s 772ms/step - loss: 71.4505 - dense_2_loss: 71.1630 - dense_5_loss: 0.2875 - dense_2_mae: 6.1406 - dense_2_accuracy: 0.0433 - dense_5_mae: 0.5000 - dense_5_accuracy: 0.8733 - val_loss: 98.9265 - val_dense_2_loss: 98.6203 - val_dense_5_loss: 0.3063 - val_dense_2_mae: 7.2326 - val_dense_2_accuracy: 0.0413 - val_dense_5_mae: 0.5000 - val_dense_5_accuracy: 0.8669\n"
     ]
    }
   ],
   "source": [
    "import os\n",
    "import cv2\n",
    "import numpy as np\n",
    "from keras.utils import Sequence\n",
    "from keras.models import Model\n",
    "from keras.layers import Conv2D, MaxPool2D, Dense, Dropout, Flatten, Input\n",
    "from keras.callbacks import ModelCheckpoint, EarlyStopping\n",
    "from sklearn.model_selection import train_test_split\n",
    "\n",
    "# Image dimensions\n",
    "img_size = (100, 100)\n",
    "\n",
    "# Custom Data Generator class\n",
    "class DataGenerator(Sequence):\n",
    "    def __init__(self, img_paths, labels, batch_size=32, img_size=(100, 100)):\n",
    "        self.img_paths = img_paths\n",
    "        self.labels = labels\n",
    "        self.batch_size = batch_size\n",
    "        self.img_size = img_size\n",
    "\n",
    "    def __len__(self):\n",
    "        return int(np.ceil(len(self.img_paths) / self.batch_size))\n",
    "\n",
    "    def __getitem__(self, idx):\n",
    "        batch_paths = self.img_paths[idx * self.batch_size:(idx + 1) * self.batch_size]\n",
    "        batch_labels = self.labels[idx * self.batch_size:(idx + 1) * self.batch_size]\n",
    "\n",
    "        images = []\n",
    "        ages = []\n",
    "        genders = []\n",
    "        for path, label in zip(batch_paths, batch_labels):\n",
    "            img = cv2.imread(path)\n",
    "            img = cv2.cvtColor(img, cv2.COLOR_BGR2RGB)\n",
    "            img = cv2.resize(img, self.img_size)\n",
    "            images.append(img)\n",
    "            ages.append(label[0])\n",
    "            genders.append(label[1])\n",
    "\n",
    "        images = np.array(images) / 255.0\n",
    "        ages = np.array(ages)\n",
    "        genders = np.array(genders)\n",
    "\n",
    "        return images, [ages, genders]\n",
    "\n",
    "# Path to the dataset\n",
    "path = \"/content/data/UTKFace\"\n",
    "\n",
    "# Prepare image paths and labels\n",
    "img_paths = [os.path.join(path, img) for img in os.listdir(path)]\n",
    "labels = [(int(img.split(\"_\")[0]), int(img.split(\"_\")[1])) for img in os.listdir(path)]\n",
    "\n",
    "# Split data into train and test sets\n",
    "train_paths, test_paths, train_labels, test_labels = train_test_split(img_paths, labels, test_size=0.2, random_state=100)\n",
    "\n",
    "# Create Data Generators\n",
    "train_gen = DataGenerator(train_paths, train_labels, batch_size=32, img_size=img_size)\n",
    "test_gen = DataGenerator(test_paths, test_labels, batch_size=32, img_size=img_size)\n",
    "\n",
    "# Model architecture\n",
    "input = Input(shape=(img_size[0], img_size[1], 3))\n",
    "conv1 = Conv2D(64, (3, 3), activation=\"relu\")(input)\n",
    "pool1 = MaxPool2D((2, 2))(conv1)\n",
    "conv2 = Conv2D(32, (3, 3), activation=\"relu\")(pool1)\n",
    "pool2 = MaxPool2D((2, 2))(conv2)\n",
    "conv3 = Conv2D(16, (3, 3), activation=\"relu\")(pool2)\n",
    "pool3 = MaxPool2D((2, 2))(conv3)\n",
    "flatten = Flatten()(pool3)\n",
    "\n",
    "# Age prediction\n",
    "age_l = Dense(32, activation=\"relu\")(flatten)\n",
    "age_l = Dense(16, activation=\"relu\")(age_l)\n",
    "age_l = Dense(1)(age_l)\n",
    "\n",
    "# Gender prediction\n",
    "gender_l = Dense(32, activation=\"relu\")(flatten)\n",
    "gender_l = Dense(16, activation=\"relu\")(gender_l)\n",
    "gender_l = Dropout(0.5)(gender_l)\n",
    "gender_l = Dense(2, activation=\"softmax\")(gender_l)\n",
    "\n",
    "# Compile model\n",
    "model = Model(inputs=input, outputs=[age_l, gender_l])\n",
    "model.compile(optimizer=\"adam\", loss=[\"mse\", \"sparse_categorical_crossentropy\"], metrics=['mae', 'accuracy'])\n",
    "\n",
    "# Callbacks\n",
    "checkpoint = ModelCheckpoint(\"best_model.h5\", monitor=\"val_loss\", save_best_only=True)\n",
    "early_stop = EarlyStopping(monitor=\"val_loss\", patience=5)\n",
    "\n",
    "# Model training\n",
    "save = model.fit(train_gen, validation_data=test_gen, epochs=50, callbacks=[checkpoint, early_stop])\n",
    "\n",
    "# Save final model\n",
    "model.save(\"final_model.h5\")\n"
   ]
  }
 ],
 "metadata": {
  "accelerator": "GPU",
  "colab": {
   "gpuType": "T4",
   "provenance": []
  },
  "kernelspec": {
   "display_name": "Python 3 (ipykernel)",
   "language": "python",
   "name": "python3"
  },
  "language_info": {
   "codemirror_mode": {
    "name": "ipython",
    "version": 3
   },
   "file_extension": ".py",
   "mimetype": "text/x-python",
   "name": "python",
   "nbconvert_exporter": "python",
   "pygments_lexer": "ipython3",
   "version": "3.8.19"
  }
 },
 "nbformat": 4,
 "nbformat_minor": 4
}
